{
 "cells": [
  {
   "cell_type": "code",
   "execution_count": 1,
   "id": "e675dbe6",
   "metadata": {},
   "outputs": [
    {
     "name": "stdout",
     "output_type": "stream",
     "text": [
      "Python 3.11.6\n"
     ]
    }
   ],
   "source": [
    "!python --version"
   ]
  },
  {
   "cell_type": "markdown",
   "id": "635abb27",
   "metadata": {},
   "source": [
    "### 1. Ingestion Raw Data"
   ]
  },
  {
   "cell_type": "code",
   "execution_count": 17,
   "id": "ac2dff77",
   "metadata": {},
   "outputs": [],
   "source": [
    "# Connect postgres database\n",
    "import psycopg2\n",
    "import pandas as pd\n",
    "import os\n",
    "\n",
    "# Connect to your postgres DB\n",
    "conn = psycopg2.connect(\n",
    "    host=os.getenv(\"POSTGRES_HOST\"),\n",
    "    database=os.getenv(\"POSTGRES_DB\"),\n",
    "    user=os.getenv(\"POSTGRES_USER\"),\n",
    "    password=os.getenv(\"POSTGRES_PASSWORD\")\n",
    ")\n",
    "conn.autocommit = True\n",
    "cur = conn.cursor()\n",
    "cur.execute(\"SELECT * FROM public.covid_data limit 1000000;\")\n",
    "df = pd.DataFrame(cur.fetchall(), columns=[desc[0] for desc in cur.description])"
   ]
  },
  {
   "cell_type": "code",
   "execution_count": 18,
   "id": "eb87fd47",
   "metadata": {},
   "outputs": [
    {
     "data": {
      "text/html": [
       "<div>\n",
       "<style scoped>\n",
       "    .dataframe tbody tr th:only-of-type {\n",
       "        vertical-align: middle;\n",
       "    }\n",
       "\n",
       "    .dataframe tbody tr th {\n",
       "        vertical-align: top;\n",
       "    }\n",
       "\n",
       "    .dataframe thead th {\n",
       "        text-align: right;\n",
       "    }\n",
       "</style>\n",
       "<table border=\"1\" class=\"dataframe\">\n",
       "  <thead>\n",
       "    <tr style=\"text-align: right;\">\n",
       "      <th></th>\n",
       "      <th>sno</th>\n",
       "      <th>observationdate</th>\n",
       "      <th>province_state</th>\n",
       "      <th>country_region</th>\n",
       "      <th>last_update</th>\n",
       "      <th>confirmed</th>\n",
       "      <th>deaths</th>\n",
       "      <th>recovered</th>\n",
       "    </tr>\n",
       "  </thead>\n",
       "  <tbody>\n",
       "    <tr>\n",
       "      <th>0</th>\n",
       "      <td>108626</td>\n",
       "      <td>09/11/2020</td>\n",
       "      <td>Tabasco</td>\n",
       "      <td>Mexico</td>\n",
       "      <td>2021-04-02 15:13:53</td>\n",
       "      <td>29814.0</td>\n",
       "      <td>2689.0</td>\n",
       "      <td>26105.0</td>\n",
       "    </tr>\n",
       "    <tr>\n",
       "      <th>1</th>\n",
       "      <td>108627</td>\n",
       "      <td>09/11/2020</td>\n",
       "      <td>Tacna</td>\n",
       "      <td>Peru</td>\n",
       "      <td>2021-04-02 15:13:53</td>\n",
       "      <td>10120.0</td>\n",
       "      <td>174.0</td>\n",
       "      <td>0.0</td>\n",
       "    </tr>\n",
       "    <tr>\n",
       "      <th>2</th>\n",
       "      <td>108628</td>\n",
       "      <td>09/11/2020</td>\n",
       "      <td>Tamaulipas</td>\n",
       "      <td>Mexico</td>\n",
       "      <td>2021-04-02 15:13:53</td>\n",
       "      <td>26507.0</td>\n",
       "      <td>1951.0</td>\n",
       "      <td>23349.0</td>\n",
       "    </tr>\n",
       "    <tr>\n",
       "      <th>3</th>\n",
       "      <td>108629</td>\n",
       "      <td>09/11/2020</td>\n",
       "      <td>Tambov Oblast</td>\n",
       "      <td>Russia</td>\n",
       "      <td>2021-04-02 15:13:53</td>\n",
       "      <td>7039.0</td>\n",
       "      <td>46.0</td>\n",
       "      <td>6198.0</td>\n",
       "    </tr>\n",
       "    <tr>\n",
       "      <th>4</th>\n",
       "      <td>108630</td>\n",
       "      <td>09/11/2020</td>\n",
       "      <td>Tamil Nadu</td>\n",
       "      <td>India</td>\n",
       "      <td>2021-04-02 15:13:53</td>\n",
       "      <td>491571.0</td>\n",
       "      <td>8231.0</td>\n",
       "      <td>435422.0</td>\n",
       "    </tr>\n",
       "  </tbody>\n",
       "</table>\n",
       "</div>"
      ],
      "text/plain": [
       "      sno observationdate province_state country_region          last_update  \\\n",
       "0  108626      09/11/2020        Tabasco         Mexico  2021-04-02 15:13:53   \n",
       "1  108627      09/11/2020          Tacna           Peru  2021-04-02 15:13:53   \n",
       "2  108628      09/11/2020     Tamaulipas         Mexico  2021-04-02 15:13:53   \n",
       "3  108629      09/11/2020  Tambov Oblast         Russia  2021-04-02 15:13:53   \n",
       "4  108630      09/11/2020     Tamil Nadu          India  2021-04-02 15:13:53   \n",
       "\n",
       "  confirmed  deaths recovered  \n",
       "0   29814.0  2689.0   26105.0  \n",
       "1   10120.0   174.0       0.0  \n",
       "2   26507.0  1951.0   23349.0  \n",
       "3    7039.0    46.0    6198.0  \n",
       "4  491571.0  8231.0  435422.0  "
      ]
     },
     "execution_count": 18,
     "metadata": {},
     "output_type": "execute_result"
    }
   ],
   "source": [
    "df.head()"
   ]
  },
  {
   "cell_type": "code",
   "execution_count": 19,
   "id": "e236d4ba",
   "metadata": {},
   "outputs": [
    {
     "name": "stdout",
     "output_type": "stream",
     "text": [
      "<class 'pandas.core.frame.DataFrame'>\n",
      "RangeIndex: 1000000 entries, 0 to 999999\n",
      "Data columns (total 8 columns):\n",
      " #   Column           Non-Null Count    Dtype \n",
      "---  ------           --------------    ----- \n",
      " 0   sno              1000000 non-null  object\n",
      " 1   observationdate  1000000 non-null  object\n",
      " 2   province_state   1000000 non-null  object\n",
      " 3   country_region   1000000 non-null  object\n",
      " 4   last_update      1000000 non-null  object\n",
      " 5   confirmed        1000000 non-null  object\n",
      " 6   deaths           1000000 non-null  object\n",
      " 7   recovered        1000000 non-null  object\n",
      "dtypes: object(8)\n",
      "memory usage: 61.0+ MB\n"
     ]
    }
   ],
   "source": [
    "df.info()"
   ]
  },
  {
   "cell_type": "code",
   "execution_count": 20,
   "id": "37c135c5",
   "metadata": {},
   "outputs": [
    {
     "data": {
      "text/plain": [
       "np.int64(693571)"
      ]
     },
     "execution_count": 20,
     "metadata": {},
     "output_type": "execute_result"
    }
   ],
   "source": [
    "df[\"sno\"].duplicated().sum()"
   ]
  },
  {
   "cell_type": "markdown",
   "id": "4d9bc44f",
   "metadata": {},
   "source": [
    "### 2. Staging & Standardization"
   ]
  },
  {
   "cell_type": "markdown",
   "id": "a8f0ad74",
   "metadata": {},
   "source": [
    "#### Normalize time\n",
    "\n",
    "- จัดการกับ format time ให้อยู่ในรูปแบบเดียวกัน"
   ]
  },
  {
   "cell_type": "code",
   "execution_count": 5,
   "id": "5b078f3b",
   "metadata": {},
   "outputs": [],
   "source": [
    "import pandas as pd\n",
    "from dateutil import parser\n",
    "\n",
    "def normalize_datetime(series):\n",
    "    \"\"\"\n",
    "    แปลง datetime หลาย format ให้เป็น 'YYYY-MM-DD HH:MM'\n",
    "    \"\"\"\n",
    "    def parse_value(x):\n",
    "        try:\n",
    "            if pd.isna(x):\n",
    "                return pd.NaT\n",
    "            dt = parser.parse(str(x))\n",
    "            return dt.strftime(\"%Y-%m-%d %H:%M\")  # normalize format\n",
    "        except Exception:\n",
    "            return pd.NaT\n",
    "    \n",
    "    return series.apply(parse_value)\n"
   ]
  },
  {
   "cell_type": "code",
   "execution_count": 6,
   "id": "a95a4469",
   "metadata": {},
   "outputs": [],
   "source": [
    "# แปลง formatข้อมูล datetime ให้เป็น 'YYYY-MM-DD HH:MM'\n",
    "df[\"last_update\"] = normalize_datetime(df[\"last_update\"])"
   ]
  },
  {
   "cell_type": "code",
   "execution_count": 7,
   "id": "d8c92f6f",
   "metadata": {},
   "outputs": [
    {
     "name": "stdout",
     "output_type": "stream",
     "text": [
      "<class 'pandas.core.frame.DataFrame'>\n",
      "RangeIndex: 1225716 entries, 0 to 1225715\n",
      "Data columns (total 8 columns):\n",
      " #   Column           Non-Null Count    Dtype \n",
      "---  ------           --------------    ----- \n",
      " 0   sno              1225716 non-null  object\n",
      " 1   observationdate  1225716 non-null  object\n",
      " 2   province_state   1225716 non-null  object\n",
      " 3   country_region   1225716 non-null  object\n",
      " 4   last_update      1225716 non-null  object\n",
      " 5   confirmed        1225716 non-null  object\n",
      " 6   deaths           1225716 non-null  object\n",
      " 7   recovered        1225716 non-null  object\n",
      "dtypes: object(8)\n",
      "memory usage: 74.8+ MB\n"
     ]
    }
   ],
   "source": [
    "df.info()"
   ]
  },
  {
   "cell_type": "code",
   "execution_count": 8,
   "id": "612c5db5",
   "metadata": {},
   "outputs": [
    {
     "data": {
      "text/plain": [
       "array(['2020-01-22 17:00', '2020-01-23 17:00', '2020-01-24 17:00',\n",
       "       '2020-01-25 17:00', '2020-01-26 16:00', '2020-01-27 23:59',\n",
       "       '2020-01-28 23:00', '2020-01-29 19:30', '2020-01-30 16:00',\n",
       "       '2020-01-31 23:59'], dtype=object)"
      ]
     },
     "execution_count": 8,
     "metadata": {},
     "output_type": "execute_result"
    }
   ],
   "source": [
    "df[\"last_update\"].unique()[:10]"
   ]
  },
  {
   "cell_type": "code",
   "execution_count": 9,
   "id": "1aae89e5",
   "metadata": {},
   "outputs": [
    {
     "data": {
      "text/plain": [
       "array(['01/22/2020', '01/23/2020', '01/24/2020', '01/25/2020',\n",
       "       '01/26/2020', '01/27/2020', '01/28/2020', '01/29/2020',\n",
       "       '01/30/2020', '01/31/2020'], dtype=object)"
      ]
     },
     "execution_count": 9,
     "metadata": {},
     "output_type": "execute_result"
    }
   ],
   "source": [
    "df[\"observationdate\"].unique()[:10]"
   ]
  },
  {
   "cell_type": "markdown",
   "id": "7b1efdd6",
   "metadata": {},
   "source": [
    "### 3. Rename columns"
   ]
  },
  {
   "cell_type": "code",
   "execution_count": 10,
   "id": "3b97a6cf",
   "metadata": {},
   "outputs": [],
   "source": [
    "# ฟังก์ชันแปลงเป็น snake_case\n",
    "def to_snake_case(col_name):\n",
    "    # แปลง space, dash เป็น underscore\n",
    "    col_name = re.sub(r\"[ -]+\", \"_\", col_name)\n",
    "    # ลบตัวอักษรพิเศษ\n",
    "    col_name = re.sub(r\"[^\\w_]\", \"\", col_name)\n",
    "    # แปลงเป็นตัวเล็ก\n",
    "    return col_name.lower()"
   ]
  },
  {
   "cell_type": "code",
   "execution_count": 11,
   "id": "f1ae15fb",
   "metadata": {},
   "outputs": [
    {
     "data": {
      "text/html": [
       "<div>\n",
       "<style scoped>\n",
       "    .dataframe tbody tr th:only-of-type {\n",
       "        vertical-align: middle;\n",
       "    }\n",
       "\n",
       "    .dataframe tbody tr th {\n",
       "        vertical-align: top;\n",
       "    }\n",
       "\n",
       "    .dataframe thead th {\n",
       "        text-align: right;\n",
       "    }\n",
       "</style>\n",
       "<table border=\"1\" class=\"dataframe\">\n",
       "  <thead>\n",
       "    <tr style=\"text-align: right;\">\n",
       "      <th></th>\n",
       "      <th>sno</th>\n",
       "      <th>observationdate</th>\n",
       "      <th>province_state</th>\n",
       "      <th>country_region</th>\n",
       "      <th>last_update</th>\n",
       "      <th>confirmed</th>\n",
       "      <th>deaths</th>\n",
       "      <th>recovered</th>\n",
       "    </tr>\n",
       "  </thead>\n",
       "  <tbody>\n",
       "    <tr>\n",
       "      <th>0</th>\n",
       "      <td>1</td>\n",
       "      <td>01/22/2020</td>\n",
       "      <td>Anhui</td>\n",
       "      <td>Mainland China</td>\n",
       "      <td>2020-01-22 17:00</td>\n",
       "      <td>1.0</td>\n",
       "      <td>0.0</td>\n",
       "      <td>0.0</td>\n",
       "    </tr>\n",
       "    <tr>\n",
       "      <th>1</th>\n",
       "      <td>2</td>\n",
       "      <td>01/22/2020</td>\n",
       "      <td>Beijing</td>\n",
       "      <td>Mainland China</td>\n",
       "      <td>2020-01-22 17:00</td>\n",
       "      <td>14.0</td>\n",
       "      <td>0.0</td>\n",
       "      <td>0.0</td>\n",
       "    </tr>\n",
       "    <tr>\n",
       "      <th>2</th>\n",
       "      <td>3</td>\n",
       "      <td>01/22/2020</td>\n",
       "      <td>Chongqing</td>\n",
       "      <td>Mainland China</td>\n",
       "      <td>2020-01-22 17:00</td>\n",
       "      <td>6.0</td>\n",
       "      <td>0.0</td>\n",
       "      <td>0.0</td>\n",
       "    </tr>\n",
       "    <tr>\n",
       "      <th>3</th>\n",
       "      <td>4</td>\n",
       "      <td>01/22/2020</td>\n",
       "      <td>Fujian</td>\n",
       "      <td>Mainland China</td>\n",
       "      <td>2020-01-22 17:00</td>\n",
       "      <td>1.0</td>\n",
       "      <td>0.0</td>\n",
       "      <td>0.0</td>\n",
       "    </tr>\n",
       "    <tr>\n",
       "      <th>4</th>\n",
       "      <td>5</td>\n",
       "      <td>01/22/2020</td>\n",
       "      <td>Gansu</td>\n",
       "      <td>Mainland China</td>\n",
       "      <td>2020-01-22 17:00</td>\n",
       "      <td>0.0</td>\n",
       "      <td>0.0</td>\n",
       "      <td>0.0</td>\n",
       "    </tr>\n",
       "  </tbody>\n",
       "</table>\n",
       "</div>"
      ],
      "text/plain": [
       "  sno observationdate province_state  country_region       last_update  \\\n",
       "0   1      01/22/2020          Anhui  Mainland China  2020-01-22 17:00   \n",
       "1   2      01/22/2020        Beijing  Mainland China  2020-01-22 17:00   \n",
       "2   3      01/22/2020      Chongqing  Mainland China  2020-01-22 17:00   \n",
       "3   4      01/22/2020         Fujian  Mainland China  2020-01-22 17:00   \n",
       "4   5      01/22/2020          Gansu  Mainland China  2020-01-22 17:00   \n",
       "\n",
       "  confirmed deaths recovered  \n",
       "0       1.0    0.0       0.0  \n",
       "1      14.0    0.0       0.0  \n",
       "2       6.0    0.0       0.0  \n",
       "3       1.0    0.0       0.0  \n",
       "4       0.0    0.0       0.0  "
      ]
     },
     "execution_count": 11,
     "metadata": {},
     "output_type": "execute_result"
    }
   ],
   "source": [
    "import re\n",
    "df.columns = [to_snake_case(col) for col in df.columns]\n",
    "df.head()"
   ]
  },
  {
   "cell_type": "markdown",
   "id": "a956f73e",
   "metadata": {},
   "source": [
    "### 3. Cast Data Type"
   ]
  },
  {
   "cell_type": "code",
   "execution_count": null,
   "id": "5dbd2e25",
   "metadata": {},
   "outputs": [],
   "source": [
    "# แปลงชนิดข้อมูล\n",
    "df.astype({\n",
    "    \"sno\": \"int\",\n",
    "    \"province_state\": \"string\",\n",
    "    \"country_region\": \"string\"\n",
    "    })\n",
    "\n",
    "# แปลงวันที่\n",
    "df[\"observationdate\"] = pd.to_datetime(df[\"observationdate\"], format=\"%m/%d/%Y\")\n",
    "df[\"last_update\"] = pd.to_datetime(df[\"last_update\"], format=\"%Y-%m-%d %H:%M\")\n",
    "\n",
    "# แปลงตัวเลข\n",
    "df[\"confirmed\"] = pd.to_numeric(df[\"confirmed\"], errors=\"coerce\").astype(int)\n",
    "df[\"deaths\"] = pd.to_numeric(df[\"deaths\"], errors=\"coerce\").astype(int)\n",
    "df[\"recovered\"] = pd.to_numeric(df[\"recovered\"], errors=\"coerce\").astype(int)"
   ]
  },
  {
   "cell_type": "code",
   "execution_count": 13,
   "id": "43374259",
   "metadata": {},
   "outputs": [
    {
     "name": "stdout",
     "output_type": "stream",
     "text": [
      "<class 'pandas.core.frame.DataFrame'>\n",
      "RangeIndex: 1225716 entries, 0 to 1225715\n",
      "Data columns (total 8 columns):\n",
      " #   Column           Non-Null Count    Dtype         \n",
      "---  ------           --------------    -----         \n",
      " 0   sno              1225716 non-null  object        \n",
      " 1   observationdate  1225716 non-null  datetime64[ns]\n",
      " 2   province_state   1225716 non-null  object        \n",
      " 3   country_region   1225716 non-null  object        \n",
      " 4   last_update      1225716 non-null  datetime64[ns]\n",
      " 5   confirmed        1225716 non-null  int64         \n",
      " 6   deaths           1225716 non-null  int64         \n",
      " 7   recovered        1225716 non-null  int64         \n",
      "dtypes: datetime64[ns](2), int64(3), object(3)\n",
      "memory usage: 74.8+ MB\n"
     ]
    }
   ],
   "source": [
    "df.info()"
   ]
  },
  {
   "cell_type": "code",
   "execution_count": 14,
   "id": "f3f69a0b",
   "metadata": {},
   "outputs": [
    {
     "data": {
      "text/plain": [
       "sno                0\n",
       "observationdate    0\n",
       "province_state     0\n",
       "country_region     0\n",
       "last_update        0\n",
       "confirmed          0\n",
       "deaths             0\n",
       "recovered          0\n",
       "dtype: int64"
      ]
     },
     "execution_count": 14,
     "metadata": {},
     "output_type": "execute_result"
    }
   ],
   "source": [
    "df.isna().sum()"
   ]
  },
  {
   "cell_type": "markdown",
   "id": "c36f2367",
   "metadata": {},
   "source": [
    "### 4. Handle Missing Value\n",
    "\n",
    "- จัดการกับ missing value ดังนี้\n",
    "    \n",
    "    - แทนที่ด้วย ค่า mean (int) \n",
    "    \n",
    "    - แทนที่ด้วย Unknow (str)\n",
    "\n",
    "    - ลบ rows นั้นถ้าเป็น NaT (datetime)"
   ]
  },
  {
   "cell_type": "code",
   "execution_count": 15,
   "id": "15131e23",
   "metadata": {},
   "outputs": [],
   "source": [
    "# จัดการกับ missing value ดังนี้\n",
    "\n",
    "# แทนที่ด้วย ค่า mean (int)\n",
    "df[\"confirmed\"] = df[\"confirmed\"].fillna(int(df[\"confirmed\"].mean()))\n",
    "df[\"deaths\"] = df[\"deaths\"].fillna(int(df[\"deaths\"].mean()))\n",
    "df[\"recovered\"] = df[\"recovered\"].fillna(int(df[\"recovered\"].mean()))\n",
    "\n",
    "# แทนที่ด้วย Unknow (str)\n",
    "df[\"province_state\"] = df[\"province_state\"].fillna(\"Unknown\")\n",
    "df[\"country_region\"] = df[\"country_region\"].fillna(\"Unknown\")\n",
    "\n",
    "# ลบ rows นั้นถ้าเป็น NaT (datetime)\n",
    "df = df.dropna(subset=[\"observationdate\", \"last_update\"])"
   ]
  },
  {
   "cell_type": "code",
   "execution_count": 16,
   "id": "53e698bf",
   "metadata": {},
   "outputs": [
    {
     "data": {
      "text/plain": [
       "sno                0\n",
       "observationdate    0\n",
       "province_state     0\n",
       "country_region     0\n",
       "last_update        0\n",
       "confirmed          0\n",
       "deaths             0\n",
       "recovered          0\n",
       "dtype: int64"
      ]
     },
     "execution_count": 16,
     "metadata": {},
     "output_type": "execute_result"
    }
   ],
   "source": [
    "df.isna().sum()"
   ]
  },
  {
   "cell_type": "code",
   "execution_count": 32,
   "id": "f6a66f2a",
   "metadata": {},
   "outputs": [
    {
     "name": "stdout",
     "output_type": "stream",
     "text": [
      "<class 'pandas.core.frame.DataFrame'>\n",
      "RangeIndex: 1225716 entries, 0 to 1225715\n",
      "Data columns (total 8 columns):\n",
      " #   Column           Non-Null Count    Dtype         \n",
      "---  ------           --------------    -----         \n",
      " 0   sno              1225716 non-null  object        \n",
      " 1   observationdate  1225716 non-null  datetime64[ns]\n",
      " 2   province_state   1225716 non-null  object        \n",
      " 3   country_region   1225716 non-null  object        \n",
      " 4   last_update      1225716 non-null  datetime64[ns]\n",
      " 5   confirmed        1225716 non-null  int64         \n",
      " 6   deaths           1225716 non-null  int64         \n",
      " 7   recovered        1225716 non-null  int64         \n",
      "dtypes: datetime64[ns](2), int64(3), object(3)\n",
      "memory usage: 74.8+ MB\n"
     ]
    },
    {
     "data": {
      "text/html": [
       "<div>\n",
       "<style scoped>\n",
       "    .dataframe tbody tr th:only-of-type {\n",
       "        vertical-align: middle;\n",
       "    }\n",
       "\n",
       "    .dataframe tbody tr th {\n",
       "        vertical-align: top;\n",
       "    }\n",
       "\n",
       "    .dataframe thead th {\n",
       "        text-align: right;\n",
       "    }\n",
       "</style>\n",
       "<table border=\"1\" class=\"dataframe\">\n",
       "  <thead>\n",
       "    <tr style=\"text-align: right;\">\n",
       "      <th></th>\n",
       "      <th>sno</th>\n",
       "      <th>observationdate</th>\n",
       "      <th>province_state</th>\n",
       "      <th>country_region</th>\n",
       "      <th>last_update</th>\n",
       "      <th>confirmed</th>\n",
       "      <th>deaths</th>\n",
       "      <th>recovered</th>\n",
       "    </tr>\n",
       "  </thead>\n",
       "  <tbody>\n",
       "    <tr>\n",
       "      <th>0</th>\n",
       "      <td>1</td>\n",
       "      <td>2020-01-22</td>\n",
       "      <td>Anhui</td>\n",
       "      <td>Mainland China</td>\n",
       "      <td>2020-01-22 17:00:00</td>\n",
       "      <td>1</td>\n",
       "      <td>0</td>\n",
       "      <td>0</td>\n",
       "    </tr>\n",
       "    <tr>\n",
       "      <th>1</th>\n",
       "      <td>2</td>\n",
       "      <td>2020-01-22</td>\n",
       "      <td>Beijing</td>\n",
       "      <td>Mainland China</td>\n",
       "      <td>2020-01-22 17:00:00</td>\n",
       "      <td>14</td>\n",
       "      <td>0</td>\n",
       "      <td>0</td>\n",
       "    </tr>\n",
       "    <tr>\n",
       "      <th>2</th>\n",
       "      <td>3</td>\n",
       "      <td>2020-01-22</td>\n",
       "      <td>Chongqing</td>\n",
       "      <td>Mainland China</td>\n",
       "      <td>2020-01-22 17:00:00</td>\n",
       "      <td>6</td>\n",
       "      <td>0</td>\n",
       "      <td>0</td>\n",
       "    </tr>\n",
       "    <tr>\n",
       "      <th>3</th>\n",
       "      <td>4</td>\n",
       "      <td>2020-01-22</td>\n",
       "      <td>Fujian</td>\n",
       "      <td>Mainland China</td>\n",
       "      <td>2020-01-22 17:00:00</td>\n",
       "      <td>1</td>\n",
       "      <td>0</td>\n",
       "      <td>0</td>\n",
       "    </tr>\n",
       "    <tr>\n",
       "      <th>4</th>\n",
       "      <td>5</td>\n",
       "      <td>2020-01-22</td>\n",
       "      <td>Gansu</td>\n",
       "      <td>Mainland China</td>\n",
       "      <td>2020-01-22 17:00:00</td>\n",
       "      <td>0</td>\n",
       "      <td>0</td>\n",
       "      <td>0</td>\n",
       "    </tr>\n",
       "  </tbody>\n",
       "</table>\n",
       "</div>"
      ],
      "text/plain": [
       "  sno observationdate province_state  country_region         last_update  \\\n",
       "0   1      2020-01-22          Anhui  Mainland China 2020-01-22 17:00:00   \n",
       "1   2      2020-01-22        Beijing  Mainland China 2020-01-22 17:00:00   \n",
       "2   3      2020-01-22      Chongqing  Mainland China 2020-01-22 17:00:00   \n",
       "3   4      2020-01-22         Fujian  Mainland China 2020-01-22 17:00:00   \n",
       "4   5      2020-01-22          Gansu  Mainland China 2020-01-22 17:00:00   \n",
       "\n",
       "   confirmed  deaths  recovered  \n",
       "0          1       0          0  \n",
       "1         14       0          0  \n",
       "2          6       0          0  \n",
       "3          1       0          0  \n",
       "4          0       0          0  "
      ]
     },
     "execution_count": 32,
     "metadata": {},
     "output_type": "execute_result"
    }
   ],
   "source": [
    "df.info()\n",
    "df.head()"
   ]
  },
  {
   "cell_type": "markdown",
   "id": "8db49d12",
   "metadata": {},
   "source": [
    "### 5. Save Data"
   ]
  },
  {
   "cell_type": "code",
   "execution_count": 31,
   "id": "6ab5c62d",
   "metadata": {},
   "outputs": [],
   "source": [
    "df.to_csv(\"/home/jovyan/work/output/covid_data_cleaned.csv\", index=False)"
   ]
  }
 ],
 "metadata": {
  "kernelspec": {
   "display_name": "Python 3 (ipykernel)",
   "language": "python",
   "name": "python3"
  },
  "language_info": {
   "codemirror_mode": {
    "name": "ipython",
    "version": 3
   },
   "file_extension": ".py",
   "mimetype": "text/x-python",
   "name": "python",
   "nbconvert_exporter": "python",
   "pygments_lexer": "ipython3",
   "version": "3.11.6"
  }
 },
 "nbformat": 4,
 "nbformat_minor": 5
}
